{
 "cells": [
  {
   "cell_type": "markdown",
   "id": "eb1aa6dc",
   "metadata": {},
   "source": [
    "# My choice:\n",
    "\n",
    "Instead of following the instructors and doing the lesson in Google Colab, I preferred Jupyter, since I already had it installed from the \"Hashtag\" course, a few weeks ago.\n",
    "\n",
    "# What I did on May 24, 2022:\n",
    "\n",
    "### 1) Imported pandas \"as\" pd (a nickname)\n",
    "### 2) Imported data from gist and at the same time creatind a variable \"url\" containing the imported data.\n",
    "### 3) Named \"dados\" the variable containing the csv result of \"url\".\n",
    "### 4) Gave the command \"head\", which shows:\n",
    "\n",
    "a- The first five entries of the Data Frame (DF) if you leave the \".head\" parenthesis empty;\n",
    "\n",
    "b- The \"n\" entries if you fill the \".head\" parenthesis with a number.\n",
    "\n",
    "# I had to stop and I'm continuing the morning after.\n",
    "\n",
    "Ok, let's do the lesson!\n",
    "\n",
    "### Note that the code cells here are re-executable.\n",
    "\n",
    "You may change a parameter and run again.\n",
    "\n",
    "A different result will display in place of the former one.\n",
    "\n",
    "### I guess everytime you enter here you must run all cells again to re-arrange the setup."
   ]
  },
  {
   "cell_type": "code",
   "execution_count": 1,
   "id": "5db10ef5",
   "metadata": {},
   "outputs": [
    {
     "data": {
      "text/html": [
       "<div>\n",
       "<style scoped>\n",
       "    .dataframe tbody tr th:only-of-type {\n",
       "        vertical-align: middle;\n",
       "    }\n",
       "\n",
       "    .dataframe tbody tr th {\n",
       "        vertical-align: top;\n",
       "    }\n",
       "\n",
       "    .dataframe thead th {\n",
       "        text-align: right;\n",
       "    }\n",
       "</style>\n",
       "<table border=\"1\" class=\"dataframe\">\n",
       "  <thead>\n",
       "    <tr style=\"text-align: right;\">\n",
       "      <th></th>\n",
       "      <th>Rua</th>\n",
       "      <th>Bairro</th>\n",
       "      <th>Cidade</th>\n",
       "      <th>Metragem</th>\n",
       "      <th>Quartos</th>\n",
       "      <th>Banheiros</th>\n",
       "      <th>Vagas</th>\n",
       "      <th>Valor</th>\n",
       "    </tr>\n",
       "  </thead>\n",
       "  <tbody>\n",
       "    <tr>\n",
       "      <th>0</th>\n",
       "      <td>Avenida Itacira, 255</td>\n",
       "      <td>Planalto Paulista</td>\n",
       "      <td>São Paulo</td>\n",
       "      <td>1000</td>\n",
       "      <td>4</td>\n",
       "      <td>8</td>\n",
       "      <td>6</td>\n",
       "      <td>R$ 7.000.000</td>\n",
       "    </tr>\n",
       "    <tr>\n",
       "      <th>1</th>\n",
       "      <td>Rua Aurelia Perez Alvarez, 42</td>\n",
       "      <td>Jardim dos Estados</td>\n",
       "      <td>São Paulo</td>\n",
       "      <td>496</td>\n",
       "      <td>4</td>\n",
       "      <td>4</td>\n",
       "      <td>4</td>\n",
       "      <td>R$ 3.700.000</td>\n",
       "    </tr>\n",
       "    <tr>\n",
       "      <th>2</th>\n",
       "      <td>Rua Alba Valdez</td>\n",
       "      <td>Jardim Reimberg</td>\n",
       "      <td>São Paulo</td>\n",
       "      <td>125</td>\n",
       "      <td>4</td>\n",
       "      <td>3</td>\n",
       "      <td>2</td>\n",
       "      <td>R$ 380.000</td>\n",
       "    </tr>\n",
       "    <tr>\n",
       "      <th>3</th>\n",
       "      <td>NaN</td>\n",
       "      <td>Jardim Morumbi</td>\n",
       "      <td>São Paulo</td>\n",
       "      <td>310</td>\n",
       "      <td>3</td>\n",
       "      <td>2</td>\n",
       "      <td>4</td>\n",
       "      <td>R$ 685.000</td>\n",
       "    </tr>\n",
       "    <tr>\n",
       "      <th>4</th>\n",
       "      <td>Rua Tobias Barreto, 195</td>\n",
       "      <td>Mooca</td>\n",
       "      <td>São Paulo</td>\n",
       "      <td>100</td>\n",
       "      <td>3</td>\n",
       "      <td>2</td>\n",
       "      <td>2</td>\n",
       "      <td>R$ 540.000</td>\n",
       "    </tr>\n",
       "  </tbody>\n",
       "</table>\n",
       "</div>"
      ],
      "text/plain": [
       "                              Rua              Bairro     Cidade  Metragem  \\\n",
       "0           Avenida Itacira, 255    Planalto Paulista  São Paulo      1000   \n",
       "1  Rua Aurelia Perez Alvarez, 42   Jardim dos Estados  São Paulo       496   \n",
       "2                 Rua Alba Valdez     Jardim Reimberg  São Paulo       125   \n",
       "3                             NaN      Jardim Morumbi  São Paulo       310   \n",
       "4        Rua Tobias Barreto, 195                Mooca  São Paulo       100   \n",
       "\n",
       "   Quartos  Banheiros  Vagas         Valor  \n",
       "0        4          8      6  R$ 7.000.000  \n",
       "1        4          4      4  R$ 3.700.000  \n",
       "2        4          3      2    R$ 380.000  \n",
       "3        3          2      4    R$ 685.000  \n",
       "4        3          2      2    R$ 540.000  "
      ]
     },
     "execution_count": 1,
     "metadata": {},
     "output_type": "execute_result"
    }
   ],
   "source": [
    "import pandas as pd\n",
    "url = \"https://gist.githubusercontent.com/tgcsantos/3bdb29eba6ce391e90df2b72205ba891/raw/22fa920e80c9fa209a9fccc8b52d74cc95d1599b/dados_imoveis.csv\"\n",
    "dados = pd.read_csv(url)\n",
    "dados.head()"
   ]
  },
  {
   "cell_type": "markdown",
   "id": "8969d90a",
   "metadata": {},
   "source": [
    "# Explaining the code above:\n",
    "\n",
    "### \"url=\" means:\n",
    "\n",
    "1) creating a variable called \"url\" (could be any other name, to avoid confusion with its origin);\n",
    "\n",
    "2) the variable content is \"called\" from an url. Something that is at that address;\n",
    "\n",
    "\n",
    "### \"dados\":\n",
    "\n",
    "\n",
    "1) I know that url contains a raw tabular data = csv (The CSV, Comma Separated Values, file is a text file with a specific format to enable saving the data in a table-structured format.)\n",
    "\n",
    "2) A variable named \"dados\" contains csv data from another just created variable called \"url\";\n",
    "\n",
    "3) \"dados\" contains the Pandas reading of the imported \"url\" variable's tabular data.\n",
    "\n",
    "### \"dados.head()\" displays:\n",
    "\n",
    "a- The first five entries of the Data Frame (DF);\n",
    "\n",
    "b- The \"n\" entries if you fill the \".head\" parenthesis with a number. You may try it in the above code.\n",
    "\n",
    "### One of the teachers  always commands \"head\" first thing to check if  the DF was imported ok.\n"
   ]
  },
  {
   "cell_type": "markdown",
   "id": "fab3f718",
   "metadata": {},
   "source": [
    "# knowing more about the just imported DF\n",
    "\n",
    "Just type the variable name that containd the imported DF: \"dados\", as below.\n",
    "\n",
    "The DF will be displayed: the 1st five lines and the last 5.\n",
    "\n",
    "After that an important info is given: \"10008 rows × 8 columns\" = the size of the table."
   ]
  },
  {
   "cell_type": "code",
   "execution_count": 2,
   "id": "318bfcb9",
   "metadata": {},
   "outputs": [
    {
     "data": {
      "text/html": [
       "<div>\n",
       "<style scoped>\n",
       "    .dataframe tbody tr th:only-of-type {\n",
       "        vertical-align: middle;\n",
       "    }\n",
       "\n",
       "    .dataframe tbody tr th {\n",
       "        vertical-align: top;\n",
       "    }\n",
       "\n",
       "    .dataframe thead th {\n",
       "        text-align: right;\n",
       "    }\n",
       "</style>\n",
       "<table border=\"1\" class=\"dataframe\">\n",
       "  <thead>\n",
       "    <tr style=\"text-align: right;\">\n",
       "      <th></th>\n",
       "      <th>Rua</th>\n",
       "      <th>Bairro</th>\n",
       "      <th>Cidade</th>\n",
       "      <th>Metragem</th>\n",
       "      <th>Quartos</th>\n",
       "      <th>Banheiros</th>\n",
       "      <th>Vagas</th>\n",
       "      <th>Valor</th>\n",
       "    </tr>\n",
       "  </thead>\n",
       "  <tbody>\n",
       "    <tr>\n",
       "      <th>0</th>\n",
       "      <td>Avenida Itacira, 255</td>\n",
       "      <td>Planalto Paulista</td>\n",
       "      <td>São Paulo</td>\n",
       "      <td>1000</td>\n",
       "      <td>4</td>\n",
       "      <td>8</td>\n",
       "      <td>6</td>\n",
       "      <td>R$ 7.000.000</td>\n",
       "    </tr>\n",
       "    <tr>\n",
       "      <th>1</th>\n",
       "      <td>Rua Aurelia Perez Alvarez, 42</td>\n",
       "      <td>Jardim dos Estados</td>\n",
       "      <td>São Paulo</td>\n",
       "      <td>496</td>\n",
       "      <td>4</td>\n",
       "      <td>4</td>\n",
       "      <td>4</td>\n",
       "      <td>R$ 3.700.000</td>\n",
       "    </tr>\n",
       "    <tr>\n",
       "      <th>2</th>\n",
       "      <td>Rua Alba Valdez</td>\n",
       "      <td>Jardim Reimberg</td>\n",
       "      <td>São Paulo</td>\n",
       "      <td>125</td>\n",
       "      <td>4</td>\n",
       "      <td>3</td>\n",
       "      <td>2</td>\n",
       "      <td>R$ 380.000</td>\n",
       "    </tr>\n",
       "    <tr>\n",
       "      <th>3</th>\n",
       "      <td>NaN</td>\n",
       "      <td>Jardim Morumbi</td>\n",
       "      <td>São Paulo</td>\n",
       "      <td>310</td>\n",
       "      <td>3</td>\n",
       "      <td>2</td>\n",
       "      <td>4</td>\n",
       "      <td>R$ 685.000</td>\n",
       "    </tr>\n",
       "    <tr>\n",
       "      <th>4</th>\n",
       "      <td>Rua Tobias Barreto, 195</td>\n",
       "      <td>Mooca</td>\n",
       "      <td>São Paulo</td>\n",
       "      <td>100</td>\n",
       "      <td>3</td>\n",
       "      <td>2</td>\n",
       "      <td>2</td>\n",
       "      <td>R$ 540.000</td>\n",
       "    </tr>\n",
       "    <tr>\n",
       "      <th>...</th>\n",
       "      <td>...</td>\n",
       "      <td>...</td>\n",
       "      <td>...</td>\n",
       "      <td>...</td>\n",
       "      <td>...</td>\n",
       "      <td>...</td>\n",
       "      <td>...</td>\n",
       "      <td>...</td>\n",
       "    </tr>\n",
       "    <tr>\n",
       "      <th>10003</th>\n",
       "      <td>Rua Tapuçu</td>\n",
       "      <td>Vila Sofia</td>\n",
       "      <td>São Paulo</td>\n",
       "      <td>95</td>\n",
       "      <td>2</td>\n",
       "      <td>2</td>\n",
       "      <td>2</td>\n",
       "      <td>R$ 665.000</td>\n",
       "    </tr>\n",
       "    <tr>\n",
       "      <th>10004</th>\n",
       "      <td>Rua Guararema</td>\n",
       "      <td>Bosque da Saúde</td>\n",
       "      <td>São Paulo</td>\n",
       "      <td>605</td>\n",
       "      <td>8</td>\n",
       "      <td>7</td>\n",
       "      <td>5</td>\n",
       "      <td>R$ 2.300.000</td>\n",
       "    </tr>\n",
       "    <tr>\n",
       "      <th>10005</th>\n",
       "      <td>Rua Estero Belaco</td>\n",
       "      <td>Vila da Saúde</td>\n",
       "      <td>São Paulo</td>\n",
       "      <td>205</td>\n",
       "      <td>3</td>\n",
       "      <td>3</td>\n",
       "      <td>6</td>\n",
       "      <td>R$ 1.050.000</td>\n",
       "    </tr>\n",
       "    <tr>\n",
       "      <th>10006</th>\n",
       "      <td>Rua Manuel Onha, , 514</td>\n",
       "      <td>Vila Oratório</td>\n",
       "      <td>São Paulo</td>\n",
       "      <td>185</td>\n",
       "      <td>3</td>\n",
       "      <td>2</td>\n",
       "      <td>2</td>\n",
       "      <td>R$ 2.200\\n                      /Mês</td>\n",
       "    </tr>\n",
       "    <tr>\n",
       "      <th>10007</th>\n",
       "      <td>Rua Barão de Tramandaí, 0</td>\n",
       "      <td>Vila Alpina</td>\n",
       "      <td>São Paulo</td>\n",
       "      <td>122</td>\n",
       "      <td>3</td>\n",
       "      <td>2</td>\n",
       "      <td>2</td>\n",
       "      <td>R$ 270.000</td>\n",
       "    </tr>\n",
       "  </tbody>\n",
       "</table>\n",
       "<p>10008 rows × 8 columns</p>\n",
       "</div>"
      ],
      "text/plain": [
       "                                  Rua              Bairro     Cidade  \\\n",
       "0               Avenida Itacira, 255    Planalto Paulista  São Paulo   \n",
       "1      Rua Aurelia Perez Alvarez, 42   Jardim dos Estados  São Paulo   \n",
       "2                     Rua Alba Valdez     Jardim Reimberg  São Paulo   \n",
       "3                                 NaN      Jardim Morumbi  São Paulo   \n",
       "4            Rua Tobias Barreto, 195                Mooca  São Paulo   \n",
       "...                               ...                 ...        ...   \n",
       "10003                      Rua Tapuçu          Vila Sofia  São Paulo   \n",
       "10004                   Rua Guararema     Bosque da Saúde  São Paulo   \n",
       "10005               Rua Estero Belaco       Vila da Saúde  São Paulo   \n",
       "10006         Rua Manuel Onha, , 514        Vila Oratório  São Paulo   \n",
       "10007      Rua Barão de Tramandaí, 0          Vila Alpina  São Paulo   \n",
       "\n",
       "       Metragem  Quartos  Banheiros  Vagas  \\\n",
       "0          1000        4          8      6   \n",
       "1           496        4          4      4   \n",
       "2           125        4          3      2   \n",
       "3           310        3          2      4   \n",
       "4           100        3          2      2   \n",
       "...         ...      ...        ...    ...   \n",
       "10003        95        2          2      2   \n",
       "10004       605        8          7      5   \n",
       "10005       205        3          3      6   \n",
       "10006       185        3          2      2   \n",
       "10007       122        3          2      2   \n",
       "\n",
       "                                      Valor  \n",
       "0                              R$ 7.000.000  \n",
       "1                              R$ 3.700.000  \n",
       "2                                R$ 380.000  \n",
       "3                                R$ 685.000  \n",
       "4                                R$ 540.000  \n",
       "...                                     ...  \n",
       "10003                            R$ 665.000  \n",
       "10004                          R$ 2.300.000  \n",
       "10005                          R$ 1.050.000  \n",
       "10006  R$ 2.200\\n                      /Mês  \n",
       "10007                            R$ 270.000  \n",
       "\n",
       "[10008 rows x 8 columns]"
      ]
     },
     "execution_count": 2,
     "metadata": {},
     "output_type": "execute_result"
    }
   ],
   "source": [
    "dados"
   ]
  },
  {
   "cell_type": "markdown",
   "id": "6a63e941",
   "metadata": {},
   "source": [
    "### From the 2 displayed data above we can see that there are things to be cleaned/corrected in the DF:\n",
    "\n",
    "1) Missing street names;\n",
    "\n",
    "2) Currency symbols (all lines) and words (line 10006 at least) mixed with numbers at the \"Valor\" column;\n",
    "\n",
    "3) Double comma in line 10006's address;\n",
    "\n",
    "4) Whatever comes next.\n",
    "\n",
    "### If I want to see more from the DF:\n",
    "\n",
    "\"dados.sample()\" displays 1 RANDOM line.\n",
    "\n",
    "By filling the parenthesis with a number, that quantity of random lines will be displayed."
   ]
  },
  {
   "cell_type": "code",
   "execution_count": 3,
   "id": "3995c59d",
   "metadata": {},
   "outputs": [
    {
     "data": {
      "text/html": [
       "<div>\n",
       "<style scoped>\n",
       "    .dataframe tbody tr th:only-of-type {\n",
       "        vertical-align: middle;\n",
       "    }\n",
       "\n",
       "    .dataframe tbody tr th {\n",
       "        vertical-align: top;\n",
       "    }\n",
       "\n",
       "    .dataframe thead th {\n",
       "        text-align: right;\n",
       "    }\n",
       "</style>\n",
       "<table border=\"1\" class=\"dataframe\">\n",
       "  <thead>\n",
       "    <tr style=\"text-align: right;\">\n",
       "      <th></th>\n",
       "      <th>Rua</th>\n",
       "      <th>Bairro</th>\n",
       "      <th>Cidade</th>\n",
       "      <th>Metragem</th>\n",
       "      <th>Quartos</th>\n",
       "      <th>Banheiros</th>\n",
       "      <th>Vagas</th>\n",
       "      <th>Valor</th>\n",
       "    </tr>\n",
       "  </thead>\n",
       "  <tbody>\n",
       "    <tr>\n",
       "      <th>5386</th>\n",
       "      <td>Rua João Jabotam</td>\n",
       "      <td>Vila Anglo Brasileira</td>\n",
       "      <td>São Paulo</td>\n",
       "      <td>272</td>\n",
       "      <td>3</td>\n",
       "      <td>2</td>\n",
       "      <td>2</td>\n",
       "      <td>R$ 6.200\\n                      /Mês</td>\n",
       "    </tr>\n",
       "  </tbody>\n",
       "</table>\n",
       "</div>"
      ],
      "text/plain": [
       "                   Rua                 Bairro     Cidade  Metragem  Quartos  \\\n",
       "5386  Rua João Jabotam  Vila Anglo Brasileira  São Paulo       272        3   \n",
       "\n",
       "      Banheiros  Vagas                                 Valor  \n",
       "5386          2      2  R$ 6.200\\n                      /Mês  "
      ]
     },
     "execution_count": 3,
     "metadata": {},
     "output_type": "execute_result"
    }
   ],
   "source": [
    "dados.sample()"
   ]
  },
  {
   "cell_type": "code",
   "execution_count": 4,
   "id": "9855257d",
   "metadata": {},
   "outputs": [
    {
     "data": {
      "text/html": [
       "<div>\n",
       "<style scoped>\n",
       "    .dataframe tbody tr th:only-of-type {\n",
       "        vertical-align: middle;\n",
       "    }\n",
       "\n",
       "    .dataframe tbody tr th {\n",
       "        vertical-align: top;\n",
       "    }\n",
       "\n",
       "    .dataframe thead th {\n",
       "        text-align: right;\n",
       "    }\n",
       "</style>\n",
       "<table border=\"1\" class=\"dataframe\">\n",
       "  <thead>\n",
       "    <tr style=\"text-align: right;\">\n",
       "      <th></th>\n",
       "      <th>Rua</th>\n",
       "      <th>Bairro</th>\n",
       "      <th>Cidade</th>\n",
       "      <th>Metragem</th>\n",
       "      <th>Quartos</th>\n",
       "      <th>Banheiros</th>\n",
       "      <th>Vagas</th>\n",
       "      <th>Valor</th>\n",
       "    </tr>\n",
       "  </thead>\n",
       "  <tbody>\n",
       "    <tr>\n",
       "      <th>3858</th>\n",
       "      <td>Rua Marquês Maricá</td>\n",
       "      <td>Sacomã</td>\n",
       "      <td>São Paulo</td>\n",
       "      <td>171</td>\n",
       "      <td>3</td>\n",
       "      <td>3</td>\n",
       "      <td>2</td>\n",
       "      <td>R$ 563.000</td>\n",
       "    </tr>\n",
       "    <tr>\n",
       "      <th>6647</th>\n",
       "      <td>Rua Cardoso de Almeida</td>\n",
       "      <td>Perdizes</td>\n",
       "      <td>São Paulo</td>\n",
       "      <td>350</td>\n",
       "      <td>5</td>\n",
       "      <td>4</td>\n",
       "      <td>5</td>\n",
       "      <td>R$ 7.000\\n                      /Mês</td>\n",
       "    </tr>\n",
       "    <tr>\n",
       "      <th>7365</th>\n",
       "      <td>Rua Marechal Bina Machado</td>\n",
       "      <td>Jardim Marajoara</td>\n",
       "      <td>São Paulo</td>\n",
       "      <td>450</td>\n",
       "      <td>3</td>\n",
       "      <td>2</td>\n",
       "      <td>4</td>\n",
       "      <td>R$ 2.500.000</td>\n",
       "    </tr>\n",
       "    <tr>\n",
       "      <th>7100</th>\n",
       "      <td>Rua Evaristo da Veiga, 81</td>\n",
       "      <td>Catumbi</td>\n",
       "      <td>São Paulo</td>\n",
       "      <td>125</td>\n",
       "      <td>2</td>\n",
       "      <td>3</td>\n",
       "      <td>2</td>\n",
       "      <td>R$ 749.000</td>\n",
       "    </tr>\n",
       "    <tr>\n",
       "      <th>5179</th>\n",
       "      <td>Rua Apinajés</td>\n",
       "      <td>Sumaré</td>\n",
       "      <td>São Paulo</td>\n",
       "      <td>140</td>\n",
       "      <td>3</td>\n",
       "      <td>2</td>\n",
       "      <td>1</td>\n",
       "      <td>R$ 1.380.000</td>\n",
       "    </tr>\n",
       "    <tr>\n",
       "      <th>7660</th>\n",
       "      <td>Rua Alphonsus de Guimaraens</td>\n",
       "      <td>Santana</td>\n",
       "      <td>São Paulo</td>\n",
       "      <td>255</td>\n",
       "      <td>2</td>\n",
       "      <td>3</td>\n",
       "      <td>5</td>\n",
       "      <td>R$ 1.200.000</td>\n",
       "    </tr>\n",
       "    <tr>\n",
       "      <th>9297</th>\n",
       "      <td>NaN</td>\n",
       "      <td>Vila Romana</td>\n",
       "      <td>São Paulo</td>\n",
       "      <td>169</td>\n",
       "      <td>3</td>\n",
       "      <td>3</td>\n",
       "      <td>2</td>\n",
       "      <td>R$ 1.100.000</td>\n",
       "    </tr>\n",
       "    <tr>\n",
       "      <th>7759</th>\n",
       "      <td>Rua Manuel Jacinto</td>\n",
       "      <td>Vila Morse</td>\n",
       "      <td>São Paulo</td>\n",
       "      <td>261</td>\n",
       "      <td>3</td>\n",
       "      <td>3</td>\n",
       "      <td>2</td>\n",
       "      <td>R$ 800.000</td>\n",
       "    </tr>\n",
       "    <tr>\n",
       "      <th>9931</th>\n",
       "      <td>Rua Tapuçu</td>\n",
       "      <td>Vila Sofia</td>\n",
       "      <td>São Paulo</td>\n",
       "      <td>90</td>\n",
       "      <td>2</td>\n",
       "      <td>2</td>\n",
       "      <td>2</td>\n",
       "      <td>R$ 665.000</td>\n",
       "    </tr>\n",
       "    <tr>\n",
       "      <th>1566</th>\n",
       "      <td>Rua dos Tamanás</td>\n",
       "      <td>Vila Madalena</td>\n",
       "      <td>São Paulo</td>\n",
       "      <td>305</td>\n",
       "      <td>3</td>\n",
       "      <td>6</td>\n",
       "      <td>4</td>\n",
       "      <td>R$ 3.500.000</td>\n",
       "    </tr>\n",
       "    <tr>\n",
       "      <th>5313</th>\n",
       "      <td>Rua Epeira</td>\n",
       "      <td>Alto de Pinheiros</td>\n",
       "      <td>São Paulo</td>\n",
       "      <td>195</td>\n",
       "      <td>3</td>\n",
       "      <td>2</td>\n",
       "      <td>2</td>\n",
       "      <td>R$ 1.950.000</td>\n",
       "    </tr>\n",
       "    <tr>\n",
       "      <th>9870</th>\n",
       "      <td>Rua Brasileiro de Campos</td>\n",
       "      <td>Vila Nhocune</td>\n",
       "      <td>São Paulo</td>\n",
       "      <td>145</td>\n",
       "      <td>3</td>\n",
       "      <td>2</td>\n",
       "      <td>2</td>\n",
       "      <td>R$ 450.000</td>\n",
       "    </tr>\n",
       "    <tr>\n",
       "      <th>6006</th>\n",
       "      <td>NaN</td>\n",
       "      <td>Jardim Europa</td>\n",
       "      <td>São Paulo</td>\n",
       "      <td>172</td>\n",
       "      <td>2</td>\n",
       "      <td>3</td>\n",
       "      <td>2</td>\n",
       "      <td>R$ 4.400.000</td>\n",
       "    </tr>\n",
       "    <tr>\n",
       "      <th>9733</th>\n",
       "      <td>Rua Moreira Cardoso</td>\n",
       "      <td>Jardim Aeroporto</td>\n",
       "      <td>São Paulo</td>\n",
       "      <td>220</td>\n",
       "      <td>3</td>\n",
       "      <td>3</td>\n",
       "      <td>5</td>\n",
       "      <td>R$ 1.100.000</td>\n",
       "    </tr>\n",
       "    <tr>\n",
       "      <th>644</th>\n",
       "      <td>Rua Araporé</td>\n",
       "      <td>Jardim Guedala</td>\n",
       "      <td>São Paulo</td>\n",
       "      <td>626</td>\n",
       "      <td>4</td>\n",
       "      <td>6</td>\n",
       "      <td>4</td>\n",
       "      <td>R$ 4.200.000</td>\n",
       "    </tr>\n",
       "  </tbody>\n",
       "</table>\n",
       "</div>"
      ],
      "text/plain": [
       "                              Rua             Bairro     Cidade  Metragem  \\\n",
       "3858           Rua Marquês Maricá             Sacomã  São Paulo       171   \n",
       "6647       Rua Cardoso de Almeida           Perdizes  São Paulo       350   \n",
       "7365    Rua Marechal Bina Machado   Jardim Marajoara  São Paulo       450   \n",
       "7100   Rua Evaristo da Veiga, 81             Catumbi  São Paulo       125   \n",
       "5179                 Rua Apinajés             Sumaré  São Paulo       140   \n",
       "7660  Rua Alphonsus de Guimaraens            Santana  São Paulo       255   \n",
       "9297                          NaN        Vila Romana  São Paulo       169   \n",
       "7759           Rua Manuel Jacinto         Vila Morse  São Paulo       261   \n",
       "9931                   Rua Tapuçu         Vila Sofia  São Paulo        90   \n",
       "1566              Rua dos Tamanás      Vila Madalena  São Paulo       305   \n",
       "5313                   Rua Epeira  Alto de Pinheiros  São Paulo       195   \n",
       "9870     Rua Brasileiro de Campos       Vila Nhocune  São Paulo       145   \n",
       "6006                          NaN      Jardim Europa  São Paulo       172   \n",
       "9733          Rua Moreira Cardoso   Jardim Aeroporto  São Paulo       220   \n",
       "644                   Rua Araporé     Jardim Guedala  São Paulo       626   \n",
       "\n",
       "      Quartos  Banheiros  Vagas                                 Valor  \n",
       "3858        3          3      2                            R$ 563.000  \n",
       "6647        5          4      5  R$ 7.000\\n                      /Mês  \n",
       "7365        3          2      4                          R$ 2.500.000  \n",
       "7100        2          3      2                            R$ 749.000  \n",
       "5179        3          2      1                          R$ 1.380.000  \n",
       "7660        2          3      5                          R$ 1.200.000  \n",
       "9297        3          3      2                          R$ 1.100.000  \n",
       "7759        3          3      2                            R$ 800.000  \n",
       "9931        2          2      2                            R$ 665.000  \n",
       "1566        3          6      4                          R$ 3.500.000  \n",
       "5313        3          2      2                          R$ 1.950.000  \n",
       "9870        3          2      2                            R$ 450.000  \n",
       "6006        2          3      2                          R$ 4.400.000  \n",
       "9733        3          3      5                          R$ 1.100.000  \n",
       "644         4          6      4                          R$ 4.200.000  "
      ]
     },
     "execution_count": 4,
     "metadata": {},
     "output_type": "execute_result"
    }
   ],
   "source": [
    "dados.sample(15)"
   ]
  },
  {
   "cell_type": "markdown",
   "id": "9bb852ea",
   "metadata": {},
   "source": [
    "# To get a \"series\":\n",
    "Series means:\n",
    "\n",
    "1) \"A Pandas Series is like a column in a table. It is a one-dimensional array holding data of any type\".\n",
    "\n",
    "2) \"Series is a one-dimensional labeled array capable of holding data of any type (integer, string, float, python objects, etc.). The axis labels are collectively called index\".\n",
    "\n",
    "Check how to get it below: (be careful, it's case sensitive)"
   ]
  },
  {
   "cell_type": "code",
   "execution_count": 5,
   "id": "fb599e4f",
   "metadata": {},
   "outputs": [
    {
     "data": {
      "text/plain": [
       "0         Planalto Paulista\n",
       "1        Jardim dos Estados\n",
       "2           Jardim Reimberg\n",
       "3            Jardim Morumbi\n",
       "4                     Mooca\n",
       "                ...        \n",
       "10003            Vila Sofia\n",
       "10004       Bosque da Saúde\n",
       "10005         Vila da Saúde\n",
       "10006         Vila Oratório\n",
       "10007           Vila Alpina\n",
       "Name: Bairro, Length: 10008, dtype: object"
      ]
     },
     "execution_count": 5,
     "metadata": {},
     "output_type": "execute_result"
    }
   ],
   "source": [
    "dados[\"Bairro\"]"
   ]
  },
  {
   "cell_type": "markdown",
   "id": "52ce37ff",
   "metadata": {},
   "source": [
    "Ok, there are 10008 rows = the total given by the \"dados\" command above.\n",
    "\n",
    "But I bet the same does not happen with the Rua column, because there are data missing or typed wrongly.\n",
    "\n",
    "Let`s check:"
   ]
  },
  {
   "cell_type": "code",
   "execution_count": 6,
   "id": "47ddfced",
   "metadata": {},
   "outputs": [
    {
     "data": {
      "text/plain": [
       "0                 Avenida Itacira, 255 \n",
       "1        Rua Aurelia Perez Alvarez, 42 \n",
       "2                       Rua Alba Valdez\n",
       "3                                   NaN\n",
       "4              Rua Tobias Barreto, 195 \n",
       "                      ...              \n",
       "10003                        Rua Tapuçu\n",
       "10004                     Rua Guararema\n",
       "10005                 Rua Estero Belaco\n",
       "10006           Rua Manuel Onha, , 514 \n",
       "10007        Rua Barão de Tramandaí, 0 \n",
       "Name: Rua, Length: 10008, dtype: object"
      ]
     },
     "execution_count": 6,
     "metadata": {},
     "output_type": "execute_result"
    }
   ],
   "source": [
    "dados[\"Rua\"]"
   ]
  },
  {
   "cell_type": "markdown",
   "id": "a44b032d",
   "metadata": {},
   "source": [
    "### Counting the \"NaN\" in \"Rua\":"
   ]
  },
  {
   "cell_type": "code",
   "execution_count": 7,
   "id": "2a9933b2",
   "metadata": {},
   "outputs": [
    {
     "data": {
      "text/plain": [
       "3434"
      ]
     },
     "execution_count": 7,
     "metadata": {},
     "output_type": "execute_result"
    }
   ],
   "source": [
    "dados['Rua'].isna().sum()"
   ]
  },
  {
   "cell_type": "code",
   "execution_count": 8,
   "id": "a22e4ed3",
   "metadata": {},
   "outputs": [
    {
     "data": {
      "text/plain": [
       "34.31254996003197"
      ]
     },
     "execution_count": 8,
     "metadata": {},
     "output_type": "execute_result"
    }
   ],
   "source": [
    "3434/10008*100"
   ]
  },
  {
   "cell_type": "markdown",
   "id": "3bf48778",
   "metadata": {},
   "source": [
    "So 34% of the DF does not have a street name. 1/3 is very significative!\n",
    "\n",
    "What to do? Simply disregard? Erase them? Is the street nasme important or only the borrough matters?\n",
    "\n",
    "Leave the streets there, I say. No harm so far."
   ]
  },
  {
   "cell_type": "markdown",
   "id": "e44d566b",
   "metadata": {},
   "source": [
    "Following the lesson:\n",
    "\n",
    "What if I want to know the borrough of a certain row?"
   ]
  },
  {
   "cell_type": "code",
   "execution_count": 9,
   "id": "1aded209",
   "metadata": {},
   "outputs": [
    {
     "data": {
      "text/plain": [
       "'Vila Paulo Silas'"
      ]
     },
     "execution_count": 9,
     "metadata": {},
     "output_type": "execute_result"
    }
   ],
   "source": [
    "dados[\"Bairro\"][6522]"
   ]
  },
  {
   "cell_type": "markdown",
   "id": "59bd735a",
   "metadata": {},
   "source": [
    "Done!"
   ]
  },
  {
   "cell_type": "markdown",
   "id": "79dc60a0",
   "metadata": {},
   "source": [
    "With \"dados.info\" I get what kind of data is in each column."
   ]
  },
  {
   "cell_type": "code",
   "execution_count": 10,
   "id": "9be3b93f",
   "metadata": {},
   "outputs": [
    {
     "name": "stdout",
     "output_type": "stream",
     "text": [
      "<class 'pandas.core.frame.DataFrame'>\n",
      "RangeIndex: 10008 entries, 0 to 10007\n",
      "Data columns (total 8 columns):\n",
      " #   Column     Non-Null Count  Dtype \n",
      "---  ------     --------------  ----- \n",
      " 0   Rua        6574 non-null   object\n",
      " 1   Bairro     9996 non-null   object\n",
      " 2   Cidade     10008 non-null  object\n",
      " 3   Metragem   10008 non-null  int64 \n",
      " 4   Quartos    10008 non-null  int64 \n",
      " 5   Banheiros  10008 non-null  int64 \n",
      " 6   Vagas      10008 non-null  int64 \n",
      " 7   Valor      10008 non-null  object\n",
      "dtypes: int64(4), object(4)\n",
      "memory usage: 625.6+ KB\n"
     ]
    }
   ],
   "source": [
    "dados.info()"
   ]
  },
  {
   "cell_type": "markdown",
   "id": "3c11826a",
   "metadata": {},
   "source": [
    "In the \"Dtype\" column: Object means text and int64 means an integer number.\n",
    "\n",
    "In the \"Non-Null Count\" column: how many valid data. In number of rows. Remember we have 10008 rows here.\n",
    "\n",
    "So Rua and Bairro are incomplete.\n",
    "\n",
    "And Valor has not the desired \"int64\" (integer numbers) kind of data. How to fix it? (later...)"
   ]
  },
  {
   "cell_type": "markdown",
   "id": "66014c24",
   "metadata": {},
   "source": [
    "To display a column we can command \"dados[\"Rua\"]\"\n",
    "\n",
    "as we did before...\n",
    "\n",
    "OR...\n",
    "\n",
    "\"dados.Rua\" (If the column name is one word (simple) the SAME result could ALSO be gotten this way)\n",
    "\n",
    "Let's try:"
   ]
  },
  {
   "cell_type": "code",
   "execution_count": 11,
   "id": "6551794d",
   "metadata": {},
   "outputs": [
    {
     "data": {
      "text/plain": [
       "0                 Avenida Itacira, 255 \n",
       "1        Rua Aurelia Perez Alvarez, 42 \n",
       "2                       Rua Alba Valdez\n",
       "3                                   NaN\n",
       "4              Rua Tobias Barreto, 195 \n",
       "                      ...              \n",
       "10003                        Rua Tapuçu\n",
       "10004                     Rua Guararema\n",
       "10005                 Rua Estero Belaco\n",
       "10006           Rua Manuel Onha, , 514 \n",
       "10007        Rua Barão de Tramandaí, 0 \n",
       "Name: Rua, Length: 10008, dtype: object"
      ]
     },
     "execution_count": 11,
     "metadata": {},
     "output_type": "execute_result"
    }
   ],
   "source": [
    "dados.Rua"
   ]
  },
  {
   "cell_type": "markdown",
   "id": "f607e133",
   "metadata": {},
   "source": [
    "Ok.\n",
    "So let`s calculate the average square meters using that:"
   ]
  },
  {
   "cell_type": "code",
   "execution_count": 12,
   "id": "736b2aa3",
   "metadata": {},
   "outputs": [
    {
     "data": {
      "text/plain": [
       "442.30065947242207"
      ]
     },
     "execution_count": 12,
     "metadata": {},
     "output_type": "execute_result"
    }
   ],
   "source": [
    "dados.Metragem.mean()"
   ]
  },
  {
   "cell_type": "markdown",
   "id": "455c4ece",
   "metadata": {},
   "source": [
    "So the mean square area of the properties is 442.3 square meters."
   ]
  },
  {
   "cell_type": "code",
   "execution_count": 13,
   "id": "dec870cd",
   "metadata": {},
   "outputs": [
    {
     "data": {
      "text/plain": [
       "442.30065947242207"
      ]
     },
     "execution_count": 13,
     "metadata": {},
     "output_type": "execute_result"
    }
   ],
   "source": [
    "dados[\"Metragem\"].mean()"
   ]
  },
  {
   "cell_type": "markdown",
   "id": "9d2d9f08",
   "metadata": {},
   "source": [
    "If you want to take a look at a bunch of \"square meters\", just take the \"mean\" off the above code, like that:"
   ]
  },
  {
   "cell_type": "code",
   "execution_count": 14,
   "id": "6fca6c21",
   "metadata": {},
   "outputs": [
    {
     "data": {
      "text/plain": [
       "0        1000\n",
       "1         496\n",
       "2         125\n",
       "3         310\n",
       "4         100\n",
       "         ... \n",
       "10003      95\n",
       "10004     605\n",
       "10005     205\n",
       "10006     185\n",
       "10007     122\n",
       "Name: Metragem, Length: 10008, dtype: int64"
      ]
     },
     "execution_count": 14,
     "metadata": {},
     "output_type": "execute_result"
    }
   ],
   "source": [
    "dados[\"Metragem\"]"
   ]
  },
  {
   "cell_type": "markdown",
   "id": "53ee053c",
   "metadata": {},
   "source": [
    "My remark:\n",
    "\n",
    "You see? It looks like we have rather large apartments or houses here. Does that mean high income rate by household?\n",
    "\n",
    "Another observation is that all the rows in this series are dully filled."
   ]
  },
  {
   "cell_type": "markdown",
   "id": "c5fdb750",
   "metadata": {},
   "source": [
    "Continuing on May 26.\n",
    "\n",
    "My remark:\n",
    "\n",
    "### If there is any text cell that should be \"markdown\" running as \"code\", the \"run all\" stops at the error."
   ]
  },
  {
   "cell_type": "markdown",
   "id": "4a36ec80",
   "metadata": {},
   "source": [
    "So watch out! Every new cell is born as \"code\".\n",
    "\n",
    "If you want text, change it in the header's due option box."
   ]
  },
  {
   "cell_type": "markdown",
   "id": "c9419f4d",
   "metadata": {},
   "source": [
    "### What is the average square meters in Vila Mariana?\n",
    "\n",
    "1) Check if there is Vila Mariana in the DF;\n",
    "\n",
    "2) just to paractice: If yes, check how many (one thing at a time, not a function)."
   ]
  },
  {
   "cell_type": "code",
   "execution_count": 15,
   "id": "9a5e52bc",
   "metadata": {},
   "outputs": [
    {
     "data": {
      "text/plain": [
       "0        False\n",
       "1        False\n",
       "2        False\n",
       "3        False\n",
       "4        False\n",
       "         ...  \n",
       "10003    False\n",
       "10004    False\n",
       "10005    False\n",
       "10006    False\n",
       "10007    False\n",
       "Name: Bairro, Length: 10008, dtype: bool"
      ]
     },
     "execution_count": 15,
     "metadata": {},
     "output_type": "execute_result"
    }
   ],
   "source": [
    "dados[\"Bairro\"] == \"Vila Mariana\""
   ]
  },
  {
   "cell_type": "code",
   "execution_count": 16,
   "id": "7d0292e3",
   "metadata": {},
   "outputs": [
    {
     "data": {
      "text/plain": [
       "0        0\n",
       "1        0\n",
       "2        0\n",
       "3        0\n",
       "4        0\n",
       "        ..\n",
       "10003    0\n",
       "10004    0\n",
       "10005    0\n",
       "10006    0\n",
       "10007    0\n",
       "Name: Bairro, Length: 10008, dtype: int32"
      ]
     },
     "execution_count": 16,
     "metadata": {},
     "output_type": "execute_result"
    }
   ],
   "source": [
    "(dados[\"Bairro\"] == \"Vila Mariana\") *1"
   ]
  },
  {
   "cell_type": "code",
   "execution_count": 17,
   "id": "72b70bb3",
   "metadata": {},
   "outputs": [
    {
     "data": {
      "text/plain": [
       "184"
      ]
     },
     "execution_count": 17,
     "metadata": {},
     "output_type": "execute_result"
    }
   ],
   "source": [
    "sum((dados[\"Bairro\"] == \"Vila Mariana\") *1)"
   ]
  },
  {
   "cell_type": "markdown",
   "id": "aed01664",
   "metadata": {},
   "source": [
    "Ok, now we see there are 184 properties in Vila Mariana.\n",
    "\n",
    "# No one told us if they are apartments or houses\n",
    "\n",
    "But there is a \"Vagas\" column. That means apartments with \"n\" places to park per apartment.\n",
    "\n",
    "When dealing with houses they usually don't talk about \"Vagas\", places to park)."
   ]
  },
  {
   "cell_type": "markdown",
   "id": "aa3f1ed7",
   "metadata": {},
   "source": [
    "Continuing..."
   ]
  },
  {
   "cell_type": "code",
   "execution_count": 19,
   "id": "0903b1ad",
   "metadata": {},
   "outputs": [],
   "source": [
    "tem_imoveis_vila =(dados[\"Bairro\"] == \"Vila Mariana\")"
   ]
  },
  {
   "cell_type": "code",
   "execution_count": 20,
   "id": "8d4de27d",
   "metadata": {},
   "outputs": [
    {
     "data": {
      "text/plain": [
       "0        False\n",
       "1        False\n",
       "2        False\n",
       "3        False\n",
       "4        False\n",
       "         ...  \n",
       "10003    False\n",
       "10004    False\n",
       "10005    False\n",
       "10006    False\n",
       "10007    False\n",
       "Name: Bairro, Length: 10008, dtype: bool"
      ]
     },
     "execution_count": 20,
     "metadata": {},
     "output_type": "execute_result"
    }
   ],
   "source": [
    "tem_imoveis_vila"
   ]
  },
  {
   "cell_type": "markdown",
   "id": "ba4eb8a3",
   "metadata": {},
   "source": [
    "Now we crop the \"tem_imoveis_vila\" from \"dados\":"
   ]
  },
  {
   "cell_type": "code",
   "execution_count": 21,
   "id": "a7a50c8e",
   "metadata": {},
   "outputs": [
    {
     "data": {
      "text/html": [
       "<div>\n",
       "<style scoped>\n",
       "    .dataframe tbody tr th:only-of-type {\n",
       "        vertical-align: middle;\n",
       "    }\n",
       "\n",
       "    .dataframe tbody tr th {\n",
       "        vertical-align: top;\n",
       "    }\n",
       "\n",
       "    .dataframe thead th {\n",
       "        text-align: right;\n",
       "    }\n",
       "</style>\n",
       "<table border=\"1\" class=\"dataframe\">\n",
       "  <thead>\n",
       "    <tr style=\"text-align: right;\">\n",
       "      <th></th>\n",
       "      <th>Rua</th>\n",
       "      <th>Bairro</th>\n",
       "      <th>Cidade</th>\n",
       "      <th>Metragem</th>\n",
       "      <th>Quartos</th>\n",
       "      <th>Banheiros</th>\n",
       "      <th>Vagas</th>\n",
       "      <th>Valor</th>\n",
       "    </tr>\n",
       "  </thead>\n",
       "  <tbody>\n",
       "    <tr>\n",
       "      <th>100</th>\n",
       "      <td>Rua Pero Correia</td>\n",
       "      <td>Vila Mariana</td>\n",
       "      <td>São Paulo</td>\n",
       "      <td>250</td>\n",
       "      <td>3</td>\n",
       "      <td>3</td>\n",
       "      <td>1</td>\n",
       "      <td>R$ 1.350.000</td>\n",
       "    </tr>\n",
       "    <tr>\n",
       "      <th>120</th>\n",
       "      <td>Praça Doutor Carvalho Franco</td>\n",
       "      <td>Vila Mariana</td>\n",
       "      <td>São Paulo</td>\n",
       "      <td>250</td>\n",
       "      <td>3</td>\n",
       "      <td>5</td>\n",
       "      <td>2</td>\n",
       "      <td>R$ 2.450.000</td>\n",
       "    </tr>\n",
       "    <tr>\n",
       "      <th>155</th>\n",
       "      <td>Rua Professor João Marinho</td>\n",
       "      <td>Vila Mariana</td>\n",
       "      <td>São Paulo</td>\n",
       "      <td>170</td>\n",
       "      <td>3</td>\n",
       "      <td>4</td>\n",
       "      <td>2</td>\n",
       "      <td>R$ 1.490.000</td>\n",
       "    </tr>\n",
       "    <tr>\n",
       "      <th>160</th>\n",
       "      <td>NaN</td>\n",
       "      <td>Vila Mariana</td>\n",
       "      <td>São Paulo</td>\n",
       "      <td>228</td>\n",
       "      <td>4</td>\n",
       "      <td>5</td>\n",
       "      <td>3</td>\n",
       "      <td>R$ 2.200.000</td>\n",
       "    </tr>\n",
       "    <tr>\n",
       "      <th>334</th>\n",
       "      <td>Rua Pero Correia, 892</td>\n",
       "      <td>Vila Mariana</td>\n",
       "      <td>São Paulo</td>\n",
       "      <td>350</td>\n",
       "      <td>6</td>\n",
       "      <td>4</td>\n",
       "      <td>10</td>\n",
       "      <td>R$ 1.700.000</td>\n",
       "    </tr>\n",
       "    <tr>\n",
       "      <th>...</th>\n",
       "      <td>...</td>\n",
       "      <td>...</td>\n",
       "      <td>...</td>\n",
       "      <td>...</td>\n",
       "      <td>...</td>\n",
       "      <td>...</td>\n",
       "      <td>...</td>\n",
       "      <td>...</td>\n",
       "    </tr>\n",
       "    <tr>\n",
       "      <th>9645</th>\n",
       "      <td>Rua Sousa Ramos</td>\n",
       "      <td>Vila Mariana</td>\n",
       "      <td>São Paulo</td>\n",
       "      <td>285</td>\n",
       "      <td>3</td>\n",
       "      <td>5</td>\n",
       "      <td>5</td>\n",
       "      <td>R$ 1.650.000</td>\n",
       "    </tr>\n",
       "    <tr>\n",
       "      <th>9701</th>\n",
       "      <td>Rua Benito Juarez</td>\n",
       "      <td>Vila Mariana</td>\n",
       "      <td>São Paulo</td>\n",
       "      <td>171</td>\n",
       "      <td>3</td>\n",
       "      <td>2</td>\n",
       "      <td>4</td>\n",
       "      <td>R$ 1.650.000</td>\n",
       "    </tr>\n",
       "    <tr>\n",
       "      <th>9737</th>\n",
       "      <td>Rua Benito Juarez</td>\n",
       "      <td>Vila Mariana</td>\n",
       "      <td>São Paulo</td>\n",
       "      <td>171</td>\n",
       "      <td>3</td>\n",
       "      <td>2</td>\n",
       "      <td>4</td>\n",
       "      <td>R$ 1.650.000</td>\n",
       "    </tr>\n",
       "    <tr>\n",
       "      <th>9807</th>\n",
       "      <td>NaN</td>\n",
       "      <td>Vila Mariana</td>\n",
       "      <td>São Paulo</td>\n",
       "      <td>275</td>\n",
       "      <td>3</td>\n",
       "      <td>1</td>\n",
       "      <td>6</td>\n",
       "      <td>R$ 1.500.000</td>\n",
       "    </tr>\n",
       "    <tr>\n",
       "      <th>9852</th>\n",
       "      <td>Rua França Pinto</td>\n",
       "      <td>Vila Mariana</td>\n",
       "      <td>São Paulo</td>\n",
       "      <td>280</td>\n",
       "      <td>3</td>\n",
       "      <td>3</td>\n",
       "      <td>4</td>\n",
       "      <td>R$ 1.600.000</td>\n",
       "    </tr>\n",
       "  </tbody>\n",
       "</table>\n",
       "<p>184 rows × 8 columns</p>\n",
       "</div>"
      ],
      "text/plain": [
       "                               Rua        Bairro     Cidade  Metragem  \\\n",
       "100               Rua Pero Correia  Vila Mariana  São Paulo       250   \n",
       "120   Praça Doutor Carvalho Franco  Vila Mariana  São Paulo       250   \n",
       "155     Rua Professor João Marinho  Vila Mariana  São Paulo       170   \n",
       "160                            NaN  Vila Mariana  São Paulo       228   \n",
       "334         Rua Pero Correia, 892   Vila Mariana  São Paulo       350   \n",
       "...                            ...           ...        ...       ...   \n",
       "9645               Rua Sousa Ramos  Vila Mariana  São Paulo       285   \n",
       "9701             Rua Benito Juarez  Vila Mariana  São Paulo       171   \n",
       "9737             Rua Benito Juarez  Vila Mariana  São Paulo       171   \n",
       "9807                           NaN  Vila Mariana  São Paulo       275   \n",
       "9852              Rua França Pinto  Vila Mariana  São Paulo       280   \n",
       "\n",
       "      Quartos  Banheiros  Vagas         Valor  \n",
       "100         3          3      1  R$ 1.350.000  \n",
       "120         3          5      2  R$ 2.450.000  \n",
       "155         3          4      2  R$ 1.490.000  \n",
       "160         4          5      3  R$ 2.200.000  \n",
       "334         6          4     10  R$ 1.700.000  \n",
       "...       ...        ...    ...           ...  \n",
       "9645        3          5      5  R$ 1.650.000  \n",
       "9701        3          2      4  R$ 1.650.000  \n",
       "9737        3          2      4  R$ 1.650.000  \n",
       "9807        3          1      6  R$ 1.500.000  \n",
       "9852        3          3      4  R$ 1.600.000  \n",
       "\n",
       "[184 rows x 8 columns]"
      ]
     },
     "execution_count": 21,
     "metadata": {},
     "output_type": "execute_result"
    }
   ],
   "source": [
    "dados[tem_imoveis_vila]"
   ]
  },
  {
   "cell_type": "markdown",
   "id": "00ef7dd7",
   "metadata": {},
   "source": [
    "Now we put this result in a variable:"
   ]
  },
  {
   "cell_type": "code",
   "execution_count": 22,
   "id": "7c21c21d",
   "metadata": {},
   "outputs": [],
   "source": [
    "imoveis_na_vila_mariana =dados[tem_imoveis_vila]"
   ]
  },
  {
   "cell_type": "markdown",
   "id": "a830550e",
   "metadata": {},
   "source": [
    "Done. From this variable, that now became a smaller DF, we request the square meter average."
   ]
  },
  {
   "cell_type": "code",
   "execution_count": 23,
   "id": "e28fec5f",
   "metadata": {},
   "outputs": [
    {
     "data": {
      "text/plain": [
       "233.6195652173913"
      ]
     },
     "execution_count": 23,
     "metadata": {},
     "output_type": "execute_result"
    }
   ],
   "source": [
    "imoveis_na_vila_mariana[\"Metragem\"].mean()"
   ]
  },
  {
   "cell_type": "markdown",
   "id": "73825eed",
   "metadata": {},
   "source": [
    "Ready!"
   ]
  },
  {
   "cell_type": "markdown",
   "id": "4ec34e24",
   "metadata": {},
   "source": [
    "Comparing the Vila average area x the whole DF average area: (my own idea)"
   ]
  },
  {
   "cell_type": "code",
   "execution_count": 25,
   "id": "bd9dacce",
   "metadata": {},
   "outputs": [
    {
     "data": {
      "text/plain": [
       "52.819176325907726"
      ]
     },
     "execution_count": 25,
     "metadata": {},
     "output_type": "execute_result"
    }
   ],
   "source": [
    "(imoveis_na_vila_mariana[\"Metragem\"].mean() / dados.Metragem.mean())*100"
   ]
  },
  {
   "cell_type": "markdown",
   "id": "f8684775",
   "metadata": {},
   "source": [
    "Ok! The average area in Vila Mariana is 52.819176325907726 per cent of the total average.\n",
    "\n",
    "It's a large apartment for Sao Paulo standard, though. Both figures are, in fact."
   ]
  }
 ],
 "metadata": {
  "kernelspec": {
   "display_name": "Python 3 (ipykernel)",
   "language": "python",
   "name": "python3"
  },
  "language_info": {
   "codemirror_mode": {
    "name": "ipython",
    "version": 3
   },
   "file_extension": ".py",
   "mimetype": "text/x-python",
   "name": "python",
   "nbconvert_exporter": "python",
   "pygments_lexer": "ipython3",
   "version": "3.9.7"
  }
 },
 "nbformat": 4,
 "nbformat_minor": 5
}
