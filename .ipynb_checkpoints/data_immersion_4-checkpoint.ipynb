{
 "cells": [
  {
   "cell_type": "markdown",
   "id": "eb1aa6dc",
   "metadata": {},
   "source": [
    "# My choice:\n",
    "\n",
    "Instead of following the instructors and doing the lesson in Google Colab, I preferred Jupyter, since I already had it installed from the \"Hashtag\" course, a few weeks ago.\n",
    "\n",
    "# What I did onMay 24, 2022:\n",
    "\n",
    "### 1) Imported pandas \"as\" pd (a nickname)\n",
    "### 2) Imported data from gist and at the same time creatind a variable \"url\" containing the imported data.\n",
    "### 3) Named \"dados\" the variable containing the csv result of \"url\".\n",
    "### 4) Gave the command \"head\", which shows:\n",
    "\n",
    "a- The first five entries of the Data Frame (DF) if you leave the \".head\" parenthesis empty;\n",
    "\n",
    "b- The \"n\" entries if you fill the \".head\" parenthesis with a number.\n",
    "\n",
    "# I had to stop and I'm continuing the morning after.\n",
    "\n",
    "Ok, let's do the lesson!\n",
    "\n",
    "### Note that the code cells here are re-executable.\n",
    "\n",
    "You may change a parameter and run again.\n",
    "\n",
    "A different result will display in place of the former one."
   ]
  },
  {
   "cell_type": "code",
   "execution_count": 3,
   "id": "5db10ef5",
   "metadata": {},
   "outputs": [
    {
     "data": {
      "text/html": [
       "<div>\n",
       "<style scoped>\n",
       "    .dataframe tbody tr th:only-of-type {\n",
       "        vertical-align: middle;\n",
       "    }\n",
       "\n",
       "    .dataframe tbody tr th {\n",
       "        vertical-align: top;\n",
       "    }\n",
       "\n",
       "    .dataframe thead th {\n",
       "        text-align: right;\n",
       "    }\n",
       "</style>\n",
       "<table border=\"1\" class=\"dataframe\">\n",
       "  <thead>\n",
       "    <tr style=\"text-align: right;\">\n",
       "      <th></th>\n",
       "      <th>Rua</th>\n",
       "      <th>Bairro</th>\n",
       "      <th>Cidade</th>\n",
       "      <th>Metragem</th>\n",
       "      <th>Quartos</th>\n",
       "      <th>Banheiros</th>\n",
       "      <th>Vagas</th>\n",
       "      <th>Valor</th>\n",
       "    </tr>\n",
       "  </thead>\n",
       "  <tbody>\n",
       "    <tr>\n",
       "      <th>0</th>\n",
       "      <td>Avenida Itacira, 255</td>\n",
       "      <td>Planalto Paulista</td>\n",
       "      <td>São Paulo</td>\n",
       "      <td>1000</td>\n",
       "      <td>4</td>\n",
       "      <td>8</td>\n",
       "      <td>6</td>\n",
       "      <td>R$ 7.000.000</td>\n",
       "    </tr>\n",
       "    <tr>\n",
       "      <th>1</th>\n",
       "      <td>Rua Aurelia Perez Alvarez, 42</td>\n",
       "      <td>Jardim dos Estados</td>\n",
       "      <td>São Paulo</td>\n",
       "      <td>496</td>\n",
       "      <td>4</td>\n",
       "      <td>4</td>\n",
       "      <td>4</td>\n",
       "      <td>R$ 3.700.000</td>\n",
       "    </tr>\n",
       "    <tr>\n",
       "      <th>2</th>\n",
       "      <td>Rua Alba Valdez</td>\n",
       "      <td>Jardim Reimberg</td>\n",
       "      <td>São Paulo</td>\n",
       "      <td>125</td>\n",
       "      <td>4</td>\n",
       "      <td>3</td>\n",
       "      <td>2</td>\n",
       "      <td>R$ 380.000</td>\n",
       "    </tr>\n",
       "    <tr>\n",
       "      <th>3</th>\n",
       "      <td>NaN</td>\n",
       "      <td>Jardim Morumbi</td>\n",
       "      <td>São Paulo</td>\n",
       "      <td>310</td>\n",
       "      <td>3</td>\n",
       "      <td>2</td>\n",
       "      <td>4</td>\n",
       "      <td>R$ 685.000</td>\n",
       "    </tr>\n",
       "    <tr>\n",
       "      <th>4</th>\n",
       "      <td>Rua Tobias Barreto, 195</td>\n",
       "      <td>Mooca</td>\n",
       "      <td>São Paulo</td>\n",
       "      <td>100</td>\n",
       "      <td>3</td>\n",
       "      <td>2</td>\n",
       "      <td>2</td>\n",
       "      <td>R$ 540.000</td>\n",
       "    </tr>\n",
       "  </tbody>\n",
       "</table>\n",
       "</div>"
      ],
      "text/plain": [
       "                              Rua              Bairro     Cidade  Metragem  \\\n",
       "0           Avenida Itacira, 255    Planalto Paulista  São Paulo      1000   \n",
       "1  Rua Aurelia Perez Alvarez, 42   Jardim dos Estados  São Paulo       496   \n",
       "2                 Rua Alba Valdez     Jardim Reimberg  São Paulo       125   \n",
       "3                             NaN      Jardim Morumbi  São Paulo       310   \n",
       "4        Rua Tobias Barreto, 195                Mooca  São Paulo       100   \n",
       "\n",
       "   Quartos  Banheiros  Vagas         Valor  \n",
       "0        4          8      6  R$ 7.000.000  \n",
       "1        4          4      4  R$ 3.700.000  \n",
       "2        4          3      2    R$ 380.000  \n",
       "3        3          2      4    R$ 685.000  \n",
       "4        3          2      2    R$ 540.000  "
      ]
     },
     "execution_count": 3,
     "metadata": {},
     "output_type": "execute_result"
    }
   ],
   "source": [
    "import pandas as pd\n",
    "url = \"https://gist.githubusercontent.com/tgcsantos/3bdb29eba6ce391e90df2b72205ba891/raw/22fa920e80c9fa209a9fccc8b52d74cc95d1599b/dados_imoveis.csv\"\n",
    "dados = pd.read_csv(url)\n",
    "dados.head()"
   ]
  },
  {
   "cell_type": "markdown",
   "id": "8969d90a",
   "metadata": {},
   "source": [
    "# Explaining the code above:\n",
    "\n",
    "### \"url=\" means:\n",
    "\n",
    "1) creating a variable called \"url\" (could be any other name, to avoid confusion with its origin);\n",
    "\n",
    "2) the variable content is \"called\" from an url. Something that is at that address;\n",
    "\n",
    "\n",
    "### \"dados\":\n",
    "\n",
    "\n",
    "1) I know that url contains a raw tabular data = csv (The CSV, Comma Separated Values, file is a text file with a specific format to enable saving the data in a table-structured format.)\n",
    "\n",
    "2) A variable named \"dados\" contains csv data from another just created variable called \"url\";\n",
    "\n",
    "3) \"dados\" contains the Pandas reading of the imported \"url\" variable's tabular data.\n",
    "\n",
    "### \"dados.head()\" displays:\n",
    "\n",
    "a- The first five entries of the Data Frame (DF);\n",
    "\n",
    "b- The \"n\" entries if you fill the \".head\" parenthesis with a number. You may try it in the above code.\n",
    "\n",
    "### One of the teachers  always commands \"head\" first thing to check if  the DF was imported ok.\n"
   ]
  },
  {
   "cell_type": "markdown",
   "id": "fab3f718",
   "metadata": {},
   "source": [
    "# knowing more about the just imported DF\n",
    "\n",
    "Just type the variable name that containd the imported DF: \"dados\", as below.\n",
    "\n",
    "The DF will be displayed: the 1st five lines and the last 5.\n",
    "\n",
    "After that an important info is given: \"10008 rows × 8 columns\" = the size of the table."
   ]
  },
  {
   "cell_type": "code",
   "execution_count": 2,
   "id": "318bfcb9",
   "metadata": {},
   "outputs": [
    {
     "data": {
      "text/html": [
       "<div>\n",
       "<style scoped>\n",
       "    .dataframe tbody tr th:only-of-type {\n",
       "        vertical-align: middle;\n",
       "    }\n",
       "\n",
       "    .dataframe tbody tr th {\n",
       "        vertical-align: top;\n",
       "    }\n",
       "\n",
       "    .dataframe thead th {\n",
       "        text-align: right;\n",
       "    }\n",
       "</style>\n",
       "<table border=\"1\" class=\"dataframe\">\n",
       "  <thead>\n",
       "    <tr style=\"text-align: right;\">\n",
       "      <th></th>\n",
       "      <th>Rua</th>\n",
       "      <th>Bairro</th>\n",
       "      <th>Cidade</th>\n",
       "      <th>Metragem</th>\n",
       "      <th>Quartos</th>\n",
       "      <th>Banheiros</th>\n",
       "      <th>Vagas</th>\n",
       "      <th>Valor</th>\n",
       "    </tr>\n",
       "  </thead>\n",
       "  <tbody>\n",
       "    <tr>\n",
       "      <th>0</th>\n",
       "      <td>Avenida Itacira, 255</td>\n",
       "      <td>Planalto Paulista</td>\n",
       "      <td>São Paulo</td>\n",
       "      <td>1000</td>\n",
       "      <td>4</td>\n",
       "      <td>8</td>\n",
       "      <td>6</td>\n",
       "      <td>R$ 7.000.000</td>\n",
       "    </tr>\n",
       "    <tr>\n",
       "      <th>1</th>\n",
       "      <td>Rua Aurelia Perez Alvarez, 42</td>\n",
       "      <td>Jardim dos Estados</td>\n",
       "      <td>São Paulo</td>\n",
       "      <td>496</td>\n",
       "      <td>4</td>\n",
       "      <td>4</td>\n",
       "      <td>4</td>\n",
       "      <td>R$ 3.700.000</td>\n",
       "    </tr>\n",
       "    <tr>\n",
       "      <th>2</th>\n",
       "      <td>Rua Alba Valdez</td>\n",
       "      <td>Jardim Reimberg</td>\n",
       "      <td>São Paulo</td>\n",
       "      <td>125</td>\n",
       "      <td>4</td>\n",
       "      <td>3</td>\n",
       "      <td>2</td>\n",
       "      <td>R$ 380.000</td>\n",
       "    </tr>\n",
       "    <tr>\n",
       "      <th>3</th>\n",
       "      <td>NaN</td>\n",
       "      <td>Jardim Morumbi</td>\n",
       "      <td>São Paulo</td>\n",
       "      <td>310</td>\n",
       "      <td>3</td>\n",
       "      <td>2</td>\n",
       "      <td>4</td>\n",
       "      <td>R$ 685.000</td>\n",
       "    </tr>\n",
       "    <tr>\n",
       "      <th>4</th>\n",
       "      <td>Rua Tobias Barreto, 195</td>\n",
       "      <td>Mooca</td>\n",
       "      <td>São Paulo</td>\n",
       "      <td>100</td>\n",
       "      <td>3</td>\n",
       "      <td>2</td>\n",
       "      <td>2</td>\n",
       "      <td>R$ 540.000</td>\n",
       "    </tr>\n",
       "    <tr>\n",
       "      <th>...</th>\n",
       "      <td>...</td>\n",
       "      <td>...</td>\n",
       "      <td>...</td>\n",
       "      <td>...</td>\n",
       "      <td>...</td>\n",
       "      <td>...</td>\n",
       "      <td>...</td>\n",
       "      <td>...</td>\n",
       "    </tr>\n",
       "    <tr>\n",
       "      <th>10003</th>\n",
       "      <td>Rua Tapuçu</td>\n",
       "      <td>Vila Sofia</td>\n",
       "      <td>São Paulo</td>\n",
       "      <td>95</td>\n",
       "      <td>2</td>\n",
       "      <td>2</td>\n",
       "      <td>2</td>\n",
       "      <td>R$ 665.000</td>\n",
       "    </tr>\n",
       "    <tr>\n",
       "      <th>10004</th>\n",
       "      <td>Rua Guararema</td>\n",
       "      <td>Bosque da Saúde</td>\n",
       "      <td>São Paulo</td>\n",
       "      <td>605</td>\n",
       "      <td>8</td>\n",
       "      <td>7</td>\n",
       "      <td>5</td>\n",
       "      <td>R$ 2.300.000</td>\n",
       "    </tr>\n",
       "    <tr>\n",
       "      <th>10005</th>\n",
       "      <td>Rua Estero Belaco</td>\n",
       "      <td>Vila da Saúde</td>\n",
       "      <td>São Paulo</td>\n",
       "      <td>205</td>\n",
       "      <td>3</td>\n",
       "      <td>3</td>\n",
       "      <td>6</td>\n",
       "      <td>R$ 1.050.000</td>\n",
       "    </tr>\n",
       "    <tr>\n",
       "      <th>10006</th>\n",
       "      <td>Rua Manuel Onha, , 514</td>\n",
       "      <td>Vila Oratório</td>\n",
       "      <td>São Paulo</td>\n",
       "      <td>185</td>\n",
       "      <td>3</td>\n",
       "      <td>2</td>\n",
       "      <td>2</td>\n",
       "      <td>R$ 2.200\\n                      /Mês</td>\n",
       "    </tr>\n",
       "    <tr>\n",
       "      <th>10007</th>\n",
       "      <td>Rua Barão de Tramandaí, 0</td>\n",
       "      <td>Vila Alpina</td>\n",
       "      <td>São Paulo</td>\n",
       "      <td>122</td>\n",
       "      <td>3</td>\n",
       "      <td>2</td>\n",
       "      <td>2</td>\n",
       "      <td>R$ 270.000</td>\n",
       "    </tr>\n",
       "  </tbody>\n",
       "</table>\n",
       "<p>10008 rows × 8 columns</p>\n",
       "</div>"
      ],
      "text/plain": [
       "                                  Rua              Bairro     Cidade  \\\n",
       "0               Avenida Itacira, 255    Planalto Paulista  São Paulo   \n",
       "1      Rua Aurelia Perez Alvarez, 42   Jardim dos Estados  São Paulo   \n",
       "2                     Rua Alba Valdez     Jardim Reimberg  São Paulo   \n",
       "3                                 NaN      Jardim Morumbi  São Paulo   \n",
       "4            Rua Tobias Barreto, 195                Mooca  São Paulo   \n",
       "...                               ...                 ...        ...   \n",
       "10003                      Rua Tapuçu          Vila Sofia  São Paulo   \n",
       "10004                   Rua Guararema     Bosque da Saúde  São Paulo   \n",
       "10005               Rua Estero Belaco       Vila da Saúde  São Paulo   \n",
       "10006         Rua Manuel Onha, , 514        Vila Oratório  São Paulo   \n",
       "10007      Rua Barão de Tramandaí, 0          Vila Alpina  São Paulo   \n",
       "\n",
       "       Metragem  Quartos  Banheiros  Vagas  \\\n",
       "0          1000        4          8      6   \n",
       "1           496        4          4      4   \n",
       "2           125        4          3      2   \n",
       "3           310        3          2      4   \n",
       "4           100        3          2      2   \n",
       "...         ...      ...        ...    ...   \n",
       "10003        95        2          2      2   \n",
       "10004       605        8          7      5   \n",
       "10005       205        3          3      6   \n",
       "10006       185        3          2      2   \n",
       "10007       122        3          2      2   \n",
       "\n",
       "                                      Valor  \n",
       "0                              R$ 7.000.000  \n",
       "1                              R$ 3.700.000  \n",
       "2                                R$ 380.000  \n",
       "3                                R$ 685.000  \n",
       "4                                R$ 540.000  \n",
       "...                                     ...  \n",
       "10003                            R$ 665.000  \n",
       "10004                          R$ 2.300.000  \n",
       "10005                          R$ 1.050.000  \n",
       "10006  R$ 2.200\\n                      /Mês  \n",
       "10007                            R$ 270.000  \n",
       "\n",
       "[10008 rows x 8 columns]"
      ]
     },
     "execution_count": 2,
     "metadata": {},
     "output_type": "execute_result"
    }
   ],
   "source": [
    "dados"
   ]
  },
  {
   "cell_type": "markdown",
   "id": "6a63e941",
   "metadata": {},
   "source": [
    "### From the 2 displayed data above we can see that there are things to be cleaned/corrected in the DF:\n",
    "\n",
    "1) Missing street names;\n",
    "\n",
    "2) Currency symbols (all lines) and words (line 10006 at least) mixed with numbers at the \"Valor\" column;\n",
    "\n",
    "3) Double comma in line 10006's address;\n",
    "\n",
    "4) Whatever comes next.\n",
    "\n",
    "### If I want to see more from the DF:\n",
    "\n",
    "\"dados.sample()\" displays 1 RANDOM line.\n",
    "\n",
    "By filling the parenthesis with a number, that quantity of random lines will be displayed."
   ]
  },
  {
   "cell_type": "code",
   "execution_count": 4,
   "id": "3995c59d",
   "metadata": {},
   "outputs": [
    {
     "data": {
      "text/html": [
       "<div>\n",
       "<style scoped>\n",
       "    .dataframe tbody tr th:only-of-type {\n",
       "        vertical-align: middle;\n",
       "    }\n",
       "\n",
       "    .dataframe tbody tr th {\n",
       "        vertical-align: top;\n",
       "    }\n",
       "\n",
       "    .dataframe thead th {\n",
       "        text-align: right;\n",
       "    }\n",
       "</style>\n",
       "<table border=\"1\" class=\"dataframe\">\n",
       "  <thead>\n",
       "    <tr style=\"text-align: right;\">\n",
       "      <th></th>\n",
       "      <th>Rua</th>\n",
       "      <th>Bairro</th>\n",
       "      <th>Cidade</th>\n",
       "      <th>Metragem</th>\n",
       "      <th>Quartos</th>\n",
       "      <th>Banheiros</th>\n",
       "      <th>Vagas</th>\n",
       "      <th>Valor</th>\n",
       "    </tr>\n",
       "  </thead>\n",
       "  <tbody>\n",
       "    <tr>\n",
       "      <th>4173</th>\n",
       "      <td>Rua Artur de Souza Marques, 322</td>\n",
       "      <td>Vila Tramontano</td>\n",
       "      <td>São Paulo</td>\n",
       "      <td>1000</td>\n",
       "      <td>4</td>\n",
       "      <td>6</td>\n",
       "      <td>6</td>\n",
       "      <td>R$ 8.600.000</td>\n",
       "    </tr>\n",
       "  </tbody>\n",
       "</table>\n",
       "</div>"
      ],
      "text/plain": [
       "                                   Rua           Bairro     Cidade  Metragem  \\\n",
       "4173  Rua Artur de Souza Marques, 322   Vila Tramontano  São Paulo      1000   \n",
       "\n",
       "      Quartos  Banheiros  Vagas         Valor  \n",
       "4173        4          6      6  R$ 8.600.000  "
      ]
     },
     "execution_count": 4,
     "metadata": {},
     "output_type": "execute_result"
    }
   ],
   "source": [
    "dados.sample()"
   ]
  },
  {
   "cell_type": "code",
   "execution_count": 6,
   "id": "9855257d",
   "metadata": {},
   "outputs": [
    {
     "data": {
      "text/html": [
       "<div>\n",
       "<style scoped>\n",
       "    .dataframe tbody tr th:only-of-type {\n",
       "        vertical-align: middle;\n",
       "    }\n",
       "\n",
       "    .dataframe tbody tr th {\n",
       "        vertical-align: top;\n",
       "    }\n",
       "\n",
       "    .dataframe thead th {\n",
       "        text-align: right;\n",
       "    }\n",
       "</style>\n",
       "<table border=\"1\" class=\"dataframe\">\n",
       "  <thead>\n",
       "    <tr style=\"text-align: right;\">\n",
       "      <th></th>\n",
       "      <th>Rua</th>\n",
       "      <th>Bairro</th>\n",
       "      <th>Cidade</th>\n",
       "      <th>Metragem</th>\n",
       "      <th>Quartos</th>\n",
       "      <th>Banheiros</th>\n",
       "      <th>Vagas</th>\n",
       "      <th>Valor</th>\n",
       "    </tr>\n",
       "  </thead>\n",
       "  <tbody>\n",
       "    <tr>\n",
       "      <th>43</th>\n",
       "      <td>Rua Vicente Góes e Aranha, 587</td>\n",
       "      <td>Vila Tramontano</td>\n",
       "      <td>São Paulo</td>\n",
       "      <td>463</td>\n",
       "      <td>4</td>\n",
       "      <td>6</td>\n",
       "      <td>6</td>\n",
       "      <td>R$ 2.200.000</td>\n",
       "    </tr>\n",
       "    <tr>\n",
       "      <th>1116</th>\n",
       "      <td>Largo Mestre de Aviz</td>\n",
       "      <td>Jardim Luzitânia</td>\n",
       "      <td>São Paulo</td>\n",
       "      <td>500</td>\n",
       "      <td>3</td>\n",
       "      <td>2</td>\n",
       "      <td>5</td>\n",
       "      <td>R$ 3.850.000</td>\n",
       "    </tr>\n",
       "    <tr>\n",
       "      <th>790</th>\n",
       "      <td>Rua Doutor João Dalmácio Azevedo</td>\n",
       "      <td>Cidade Jardim</td>\n",
       "      <td>São Paulo</td>\n",
       "      <td>1105</td>\n",
       "      <td>4</td>\n",
       "      <td>5</td>\n",
       "      <td>14</td>\n",
       "      <td>R$ 14.000.000</td>\n",
       "    </tr>\n",
       "    <tr>\n",
       "      <th>2870</th>\n",
       "      <td>NaN</td>\n",
       "      <td>Jardim Leonor</td>\n",
       "      <td>São Paulo</td>\n",
       "      <td>750</td>\n",
       "      <td>4</td>\n",
       "      <td>8</td>\n",
       "      <td>5</td>\n",
       "      <td>R$ 20.000\\n                      /Mês</td>\n",
       "    </tr>\n",
       "    <tr>\n",
       "      <th>8597</th>\n",
       "      <td>Rua Major Freire, 567</td>\n",
       "      <td>Vila Monte Alegre</td>\n",
       "      <td>São Paulo</td>\n",
       "      <td>211</td>\n",
       "      <td>4</td>\n",
       "      <td>3</td>\n",
       "      <td>5</td>\n",
       "      <td>R$ 970.000</td>\n",
       "    </tr>\n",
       "    <tr>\n",
       "      <th>1729</th>\n",
       "      <td>Rua Professor Miguel Maurício da Rocha</td>\n",
       "      <td>Brooklin Paulista</td>\n",
       "      <td>São Paulo</td>\n",
       "      <td>485</td>\n",
       "      <td>4</td>\n",
       "      <td>7</td>\n",
       "      <td>4</td>\n",
       "      <td>R$ 2.660.000</td>\n",
       "    </tr>\n",
       "    <tr>\n",
       "      <th>1380</th>\n",
       "      <td>Rua João Álvares Soares</td>\n",
       "      <td>Campo Belo</td>\n",
       "      <td>São Paulo</td>\n",
       "      <td>605</td>\n",
       "      <td>4</td>\n",
       "      <td>2</td>\n",
       "      <td>4</td>\n",
       "      <td>R$ 5.000.000</td>\n",
       "    </tr>\n",
       "    <tr>\n",
       "      <th>3605</th>\n",
       "      <td>Rua Pongada, 110</td>\n",
       "      <td>Jardim Panorama</td>\n",
       "      <td>São Paulo</td>\n",
       "      <td>394</td>\n",
       "      <td>4</td>\n",
       "      <td>6</td>\n",
       "      <td>4</td>\n",
       "      <td>R$ 2.000.000</td>\n",
       "    </tr>\n",
       "    <tr>\n",
       "      <th>5668</th>\n",
       "      <td>Rua Wagih Assad Abdalla, 138</td>\n",
       "      <td>Morumbi</td>\n",
       "      <td>São Paulo</td>\n",
       "      <td>683</td>\n",
       "      <td>4</td>\n",
       "      <td>6</td>\n",
       "      <td>4</td>\n",
       "      <td>R$ 10.000\\n                      /Mês</td>\n",
       "    </tr>\n",
       "    <tr>\n",
       "      <th>8694</th>\n",
       "      <td>Rua Rafael Iório</td>\n",
       "      <td>Campo Belo</td>\n",
       "      <td>São Paulo</td>\n",
       "      <td>132</td>\n",
       "      <td>3</td>\n",
       "      <td>2</td>\n",
       "      <td>2</td>\n",
       "      <td>R$ 800.000</td>\n",
       "    </tr>\n",
       "    <tr>\n",
       "      <th>8908</th>\n",
       "      <td>NaN</td>\n",
       "      <td>Vila Gertrudes</td>\n",
       "      <td>São Paulo</td>\n",
       "      <td>109</td>\n",
       "      <td>2</td>\n",
       "      <td>2</td>\n",
       "      <td>2</td>\n",
       "      <td>R$ 1.000.000</td>\n",
       "    </tr>\n",
       "    <tr>\n",
       "      <th>2815</th>\n",
       "      <td>NaN</td>\n",
       "      <td>Jardim Paulista</td>\n",
       "      <td>São Paulo</td>\n",
       "      <td>723</td>\n",
       "      <td>3</td>\n",
       "      <td>3</td>\n",
       "      <td>4</td>\n",
       "      <td>R$ 16.500.000</td>\n",
       "    </tr>\n",
       "    <tr>\n",
       "      <th>8252</th>\n",
       "      <td>Rua Sassaki</td>\n",
       "      <td>Vila Marari</td>\n",
       "      <td>São Paulo</td>\n",
       "      <td>270</td>\n",
       "      <td>3</td>\n",
       "      <td>6</td>\n",
       "      <td>3</td>\n",
       "      <td>R$ 980.000</td>\n",
       "    </tr>\n",
       "    <tr>\n",
       "      <th>8547</th>\n",
       "      <td>Rua Henrique Martins</td>\n",
       "      <td>Jardim Paulista</td>\n",
       "      <td>São Paulo</td>\n",
       "      <td>723</td>\n",
       "      <td>3</td>\n",
       "      <td>7</td>\n",
       "      <td>4</td>\n",
       "      <td>R$ 16.497.000</td>\n",
       "    </tr>\n",
       "    <tr>\n",
       "      <th>2898</th>\n",
       "      <td>Rua Sanharó</td>\n",
       "      <td>Jardim Guedala</td>\n",
       "      <td>São Paulo</td>\n",
       "      <td>590</td>\n",
       "      <td>5</td>\n",
       "      <td>5</td>\n",
       "      <td>5</td>\n",
       "      <td>R$ 2.250.000</td>\n",
       "    </tr>\n",
       "  </tbody>\n",
       "</table>\n",
       "</div>"
      ],
      "text/plain": [
       "                                         Rua             Bairro     Cidade  \\\n",
       "43           Rua Vicente Góes e Aranha, 587     Vila Tramontano  São Paulo   \n",
       "1116                    Largo Mestre de Aviz   Jardim Luzitânia  São Paulo   \n",
       "790         Rua Doutor João Dalmácio Azevedo      Cidade Jardim  São Paulo   \n",
       "2870                                     NaN      Jardim Leonor  São Paulo   \n",
       "8597                  Rua Major Freire, 567   Vila Monte Alegre  São Paulo   \n",
       "1729  Rua Professor Miguel Maurício da Rocha  Brooklin Paulista  São Paulo   \n",
       "1380                 Rua João Álvares Soares         Campo Belo  São Paulo   \n",
       "3605                       Rua Pongada, 110     Jardim Panorama  São Paulo   \n",
       "5668           Rua Wagih Assad Abdalla, 138             Morumbi  São Paulo   \n",
       "8694                        Rua Rafael Iório         Campo Belo  São Paulo   \n",
       "8908                                     NaN     Vila Gertrudes  São Paulo   \n",
       "2815                                     NaN    Jardim Paulista  São Paulo   \n",
       "8252                             Rua Sassaki        Vila Marari  São Paulo   \n",
       "8547                    Rua Henrique Martins    Jardim Paulista  São Paulo   \n",
       "2898                             Rua Sanharó     Jardim Guedala  São Paulo   \n",
       "\n",
       "      Metragem  Quartos  Banheiros  Vagas  \\\n",
       "43         463        4          6      6   \n",
       "1116       500        3          2      5   \n",
       "790       1105        4          5     14   \n",
       "2870       750        4          8      5   \n",
       "8597       211        4          3      5   \n",
       "1729       485        4          7      4   \n",
       "1380       605        4          2      4   \n",
       "3605       394        4          6      4   \n",
       "5668       683        4          6      4   \n",
       "8694       132        3          2      2   \n",
       "8908       109        2          2      2   \n",
       "2815       723        3          3      4   \n",
       "8252       270        3          6      3   \n",
       "8547       723        3          7      4   \n",
       "2898       590        5          5      5   \n",
       "\n",
       "                                      Valor  \n",
       "43                             R$ 2.200.000  \n",
       "1116                           R$ 3.850.000  \n",
       "790                           R$ 14.000.000  \n",
       "2870  R$ 20.000\\n                      /Mês  \n",
       "8597                             R$ 970.000  \n",
       "1729                           R$ 2.660.000  \n",
       "1380                           R$ 5.000.000  \n",
       "3605                           R$ 2.000.000  \n",
       "5668  R$ 10.000\\n                      /Mês  \n",
       "8694                             R$ 800.000  \n",
       "8908                           R$ 1.000.000  \n",
       "2815                          R$ 16.500.000  \n",
       "8252                             R$ 980.000  \n",
       "8547                          R$ 16.497.000  \n",
       "2898                           R$ 2.250.000  "
      ]
     },
     "execution_count": 6,
     "metadata": {},
     "output_type": "execute_result"
    }
   ],
   "source": [
    "dados.sample(15)"
   ]
  },
  {
   "cell_type": "markdown",
   "id": "9bb852ea",
   "metadata": {},
   "source": [
    "# To get a \"series\":\n",
    "Series means:\n",
    "\n",
    "1) \"A Pandas Series is like a column in a table. It is a one-dimensional array holding data of any type\".\n",
    "\n",
    "2) \"Series is a one-dimensional labeled array capable of holding data of any type (integer, string, float, python objects, etc.). The axis labels are collectively called index\".\n",
    "\n",
    "Check how to get it below: (be careful, it's case sensitive)"
   ]
  },
  {
   "cell_type": "code",
   "execution_count": 8,
   "id": "fb599e4f",
   "metadata": {},
   "outputs": [
    {
     "data": {
      "text/plain": [
       "0         Planalto Paulista\n",
       "1        Jardim dos Estados\n",
       "2           Jardim Reimberg\n",
       "3            Jardim Morumbi\n",
       "4                     Mooca\n",
       "                ...        \n",
       "10003            Vila Sofia\n",
       "10004       Bosque da Saúde\n",
       "10005         Vila da Saúde\n",
       "10006         Vila Oratório\n",
       "10007           Vila Alpina\n",
       "Name: Bairro, Length: 10008, dtype: object"
      ]
     },
     "execution_count": 8,
     "metadata": {},
     "output_type": "execute_result"
    }
   ],
   "source": [
    "dados[\"Bairro\"]"
   ]
  },
  {
   "cell_type": "code",
   "execution_count": null,
   "id": "dd642fb7",
   "metadata": {},
   "outputs": [],
   "source": [
    "Ok, there are 10008 rows = the total given by the \"dados\" command above.\n",
    "\n",
    "But I bet the same does not happen with the Rua column, because there are data missing or typed wrongly.\n",
    "\n",
    "Let`s check:"
   ]
  },
  {
   "cell_type": "code",
   "execution_count": 9,
   "id": "47ddfced",
   "metadata": {},
   "outputs": [
    {
     "data": {
      "text/plain": [
       "0                 Avenida Itacira, 255 \n",
       "1        Rua Aurelia Perez Alvarez, 42 \n",
       "2                       Rua Alba Valdez\n",
       "3                                   NaN\n",
       "4              Rua Tobias Barreto, 195 \n",
       "                      ...              \n",
       "10003                        Rua Tapuçu\n",
       "10004                     Rua Guararema\n",
       "10005                 Rua Estero Belaco\n",
       "10006           Rua Manuel Onha, , 514 \n",
       "10007        Rua Barão de Tramandaí, 0 \n",
       "Name: Rua, Length: 10008, dtype: object"
      ]
     },
     "execution_count": 9,
     "metadata": {},
     "output_type": "execute_result"
    }
   ],
   "source": [
    "dados[\"Rua\"]"
   ]
  },
  {
   "cell_type": "markdown",
   "id": "a44b032d",
   "metadata": {},
   "source": [
    "### Counting the \"NaN\" in \"Rua\":"
   ]
  },
  {
   "cell_type": "code",
   "execution_count": 13,
   "id": "2a9933b2",
   "metadata": {},
   "outputs": [
    {
     "data": {
      "text/plain": [
       "3434"
      ]
     },
     "execution_count": 13,
     "metadata": {},
     "output_type": "execute_result"
    }
   ],
   "source": [
    "dados['Rua'].isna().sum()"
   ]
  },
  {
   "cell_type": "code",
   "execution_count": 16,
   "id": "a22e4ed3",
   "metadata": {},
   "outputs": [
    {
     "data": {
      "text/plain": [
       "34.31254996003197"
      ]
     },
     "execution_count": 16,
     "metadata": {},
     "output_type": "execute_result"
    }
   ],
   "source": [
    "3434/10008*100"
   ]
  },
  {
   "cell_type": "markdown",
   "id": "3bf48778",
   "metadata": {},
   "source": [
    "So 34% of the DF does not have a street name. 1/3 is very significative!\n",
    "\n",
    "What to do? Simply disregard? Erase them? Is the street nasme important or only the borrough matters?\n",
    "\n",
    "Leave the streets there, I say. No harm so far."
   ]
  },
  {
   "cell_type": "markdown",
   "id": "e44d566b",
   "metadata": {},
   "source": [
    "Following the lesson:\n",
    "\n",
    "What if I want to know the borrough of a certain row?"
   ]
  },
  {
   "cell_type": "code",
   "execution_count": 19,
   "id": "1aded209",
   "metadata": {},
   "outputs": [
    {
     "data": {
      "text/plain": [
       "'Vila Paulo Silas'"
      ]
     },
     "execution_count": 19,
     "metadata": {},
     "output_type": "execute_result"
    }
   ],
   "source": [
    "dados[\"Bairro\"][6522]"
   ]
  },
  {
   "cell_type": "markdown",
   "id": "59bd735a",
   "metadata": {},
   "source": [
    "Done!"
   ]
  },
  {
   "cell_type": "markdown",
   "id": "79dc60a0",
   "metadata": {},
   "source": [
    "With \"dados.info\" I get what kind of data is in each column."
   ]
  },
  {
   "cell_type": "code",
   "execution_count": 21,
   "id": "9be3b93f",
   "metadata": {},
   "outputs": [
    {
     "name": "stdout",
     "output_type": "stream",
     "text": [
      "<class 'pandas.core.frame.DataFrame'>\n",
      "RangeIndex: 10008 entries, 0 to 10007\n",
      "Data columns (total 8 columns):\n",
      " #   Column     Non-Null Count  Dtype \n",
      "---  ------     --------------  ----- \n",
      " 0   Rua        6574 non-null   object\n",
      " 1   Bairro     9996 non-null   object\n",
      " 2   Cidade     10008 non-null  object\n",
      " 3   Metragem   10008 non-null  int64 \n",
      " 4   Quartos    10008 non-null  int64 \n",
      " 5   Banheiros  10008 non-null  int64 \n",
      " 6   Vagas      10008 non-null  int64 \n",
      " 7   Valor      10008 non-null  object\n",
      "dtypes: int64(4), object(4)\n",
      "memory usage: 625.6+ KB\n"
     ]
    }
   ],
   "source": [
    "dados.info()"
   ]
  },
  {
   "cell_type": "markdown",
   "id": "3c11826a",
   "metadata": {},
   "source": [
    "In the \"Dtype\" column: Object means text and int64 means an integer number.\n",
    "\n",
    "In the \"Non-Null Count\" column: how many valid data. In number of rows. Remember we have 10008 rows here.\n",
    "\n",
    "So Rua and Bairro are incomplete.\n",
    "\n",
    "And Valor has not the desired \"int64\" (integer numbers) kind of data. How to fix it? (later...)"
   ]
  },
  {
   "cell_type": "markdown",
   "id": "66014c24",
   "metadata": {},
   "source": [
    "To display a column we can command \"dados[\"Rua\"]\" as we did before...\n",
    "OR...\n",
    "\"dados.Rua\"\n",
    "Let's try:"
   ]
  },
  {
   "cell_type": "code",
   "execution_count": 22,
   "id": "6551794d",
   "metadata": {},
   "outputs": [
    {
     "data": {
      "text/plain": [
       "0                 Avenida Itacira, 255 \n",
       "1        Rua Aurelia Perez Alvarez, 42 \n",
       "2                       Rua Alba Valdez\n",
       "3                                   NaN\n",
       "4              Rua Tobias Barreto, 195 \n",
       "                      ...              \n",
       "10003                        Rua Tapuçu\n",
       "10004                     Rua Guararema\n",
       "10005                 Rua Estero Belaco\n",
       "10006           Rua Manuel Onha, , 514 \n",
       "10007        Rua Barão de Tramandaí, 0 \n",
       "Name: Rua, Length: 10008, dtype: object"
      ]
     },
     "execution_count": 22,
     "metadata": {},
     "output_type": "execute_result"
    }
   ],
   "source": [
    "dados.Rua"
   ]
  },
  {
   "cell_type": "code",
   "execution_count": null,
   "id": "88d2f3a8",
   "metadata": {},
   "outputs": [],
   "source": [
    "Ok.\n",
    "So let`s calculate the average square meters using that:"
   ]
  },
  {
   "cell_type": "code",
   "execution_count": 23,
   "id": "736b2aa3",
   "metadata": {},
   "outputs": [
    {
     "data": {
      "text/plain": [
       "442.30065947242207"
      ]
     },
     "execution_count": 23,
     "metadata": {},
     "output_type": "execute_result"
    }
   ],
   "source": [
    "dados.Metragem.mean()"
   ]
  },
  {
   "cell_type": "code",
   "execution_count": null,
   "id": "8d951aa5",
   "metadata": {},
   "outputs": [],
   "source": [
    "So the mean square area of the properties is 442.3 square meters.\n",
    "That coul be gotten with:"
   ]
  },
  {
   "cell_type": "code",
   "execution_count": 24,
   "id": "dec870cd",
   "metadata": {},
   "outputs": [
    {
     "data": {
      "text/plain": [
       "442.30065947242207"
      ]
     },
     "execution_count": 24,
     "metadata": {},
     "output_type": "execute_result"
    }
   ],
   "source": [
    "dados[\"Metragem\"].mean()"
   ]
  },
  {
   "cell_type": "markdown",
   "id": "9d2d9f08",
   "metadata": {},
   "source": [
    "see 45min03 of aula 1 to continue..."
   ]
  }
 ],
 "metadata": {
  "kernelspec": {
   "display_name": "Python 3 (ipykernel)",
   "language": "python",
   "name": "python3"
  },
  "language_info": {
   "codemirror_mode": {
    "name": "ipython",
    "version": 3
   },
   "file_extension": ".py",
   "mimetype": "text/x-python",
   "name": "python",
   "nbconvert_exporter": "python",
   "pygments_lexer": "ipython3",
   "version": "3.9.7"
  }
 },
 "nbformat": 4,
 "nbformat_minor": 5
}
